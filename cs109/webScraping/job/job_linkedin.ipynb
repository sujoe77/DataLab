{
 "cells": [
  {
   "cell_type": "code",
   "execution_count": 3,
   "metadata": {},
   "outputs": [
    {
     "name": "stdout",
     "output_type": "stream",
     "text": [
      "The autoreload extension is already loaded. To reload it, use:\n",
      "  %reload_ext autoreload\n",
      "KEYWORD_LIST size: ['Java', 'Data', 'developer']\n",
      "EXECLUDE_COMPANY size: ['dfds', 'prodata', 'Systematic', 'test']\n",
      "SLEEP: 6\n",
      "PAGE_SIZE: 1\n",
      "https://stackoverflow.com/jobs?l=Copenhagen%2C+Denmark&d=20&u=Km&pg=1\n",
      "div size:25\n",
      "result size 0, set size before 25, after 25\n",
      "final set size is: 25\n"
     ]
    }
   ],
   "source": [
    "%load_ext autoreload\n",
    "%autoreload 2\n",
    "from bs4 import BeautifulSoup\n",
    "import requests\n",
    "import time\n",
    "import datetime\n",
    "from job import Job\n",
    "from StackOverflow import StackOverflowJob\n",
    "\n",
    "print(\"KEYWORD_LIST size: \" + str(Job.KEYWORD_LIST))\n",
    "print(\"EXECLUDE_COMPANY size: \" + str(Job.EXECLUDE_COMPANY))\n",
    "print(\"SLEEP: \" + str(Job.SLEEP))\n",
    "print(\"PAGE_SIZE: \" + str(Job.PAGE_SIZE))\n",
    "\n",
    "jobs=[Job(), ]\n",
    "'''\n",
    "j = Job()\n",
    "jobSet = j.get_jobset(Job.KEYWORD_LIST, Job.PAGE_SIZE)\n",
    "j.write_file(jobSet, 'jobs_linkedin'+datetime.datetime.now().strftime(\"%Y%m%d%H%M%S\")+'.csv')\n",
    "'''\n",
    "j = StackOverflowJob()\n",
    "jobSet = j.get_jobset(StackOverflowJob.KEYWORD_LIST, Job.PAGE_SIZE)\n",
    "j.write_file(jobSet, 'jobs_stackoverflow'+datetime.datetime.now().strftime(\"%Y%m%d%H%M%S\")+'.csv')"
   ]
  }
 ],
 "metadata": {
  "kernelspec": {
   "display_name": "Python 3",
   "language": "python",
   "name": "python3"
  },
  "language_info": {
   "codemirror_mode": {
    "name": "ipython",
    "version": 3
   },
   "file_extension": ".py",
   "mimetype": "text/x-python",
   "name": "python",
   "nbconvert_exporter": "python",
   "pygments_lexer": "ipython3",
   "version": "3.7.3"
  }
 },
 "nbformat": 4,
 "nbformat_minor": 2
}
