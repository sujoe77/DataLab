{
 "cells": [
  {
   "cell_type": "code",
   "execution_count": 74,
   "metadata": {},
   "outputs": [
    {
     "name": "stdout",
     "output_type": "stream",
     "text": [
      "The autoreload extension is already loaded. To reload it, use:\n",
      "  %reload_ext autoreload\n",
      "KEYWORD_LIST size: ['Java']\n",
      "EXECLUDE_COMPANY size: ['dfds', 'prodata', 'Systematic', 'test']\n",
      "SLEEP: 6\n",
      "PAGE_SIZE: 1\n",
      "https://www.nordea.com/en/careers/vacant-positions/?cty=19419&geo=19424&area=19488&jobid=&p=1\n",
      "17\n",
      "result size 0, set size before 15, after 15\n",
      "final set size is: 15\n"
     ]
    },
    {
     "data": {
      "text/plain": [
       "'\\nj = StackOverflowJob()\\njobSet = j.get_jobset(StackOverflowJob.KEYWORD_LIST, PAGE_SIZE, SLEEP)\\nj.write_file(jobSet, \\'./data/jobs_stackoverflow\\'+datetime.datetime.now().strftime(\"%Y%m%d%H%M%S\")+\\'.csv\\')\\n'"
      ]
     },
     "execution_count": 74,
     "metadata": {},
     "output_type": "execute_result"
    }
   ],
   "source": [
    "%load_ext autoreload\n",
    "%autoreload 2\n",
    "from bs4 import BeautifulSoup\n",
    "import requests\n",
    "import time\n",
    "import datetime\n",
    "from job import Job\n",
    "from StackOverflow import StackOverflowJob\n",
    "from LinkedIn import LinkedInJob\n",
    "from ItJobBank import ItJobBankJob\n",
    "from Nordea import NordeaJob\n",
    "\n",
    "EXECLUDE_TITLE = [\"frontend\", \"c#\", \"udvikler\", \"android\", \"analyst\", \"devops\", \"security\", \"sale\",\"microsoft\"]\n",
    "EXECLUDE_COMPANY = [\"dfds\", \"prodata\", \"Systematic\",\"test\"]\n",
    "#KEYWORD_LIST=[\"Java\",\"Data\", \"developer\"]\n",
    "KEYWORD_LIST=[\"Java\"]\n",
    "SLEEP=6\n",
    "PAGE_SIZE = 1\n",
    "\n",
    "print(\"KEYWORD_LIST size: \" + str(KEYWORD_LIST))\n",
    "print(\"EXECLUDE_COMPANY size: \" + str(EXECLUDE_COMPANY))\n",
    "print(\"SLEEP: \" + str(SLEEP))\n",
    "print(\"PAGE_SIZE: \" + str(PAGE_SIZE))\n",
    "\n",
    "jobs=[Job(), ]\n",
    "\n",
    "'''\n",
    "j = LinkedInJob()\n",
    "jobSet = j.get_jobset(LinkedInJob.KEYWORD_LIST, LinkedInJob.PAGE_SIZE, SLEEP)\n",
    "j.write_file(jobSet, './data/jobs_linkedin'+datetime.datetime.now().strftime(\"%Y%m%d%H%M%S\")+'.csv')\n",
    "\n",
    "\n",
    "j=ItJobBankJob()\n",
    "jobSet = j.get_jobset(LinkedInJob.KEYWORD_LIST, LinkedInJob.PAGE_SIZE, SLEEP)\n",
    "j.write_file(jobSet, './data/itJobBank'+datetime.datetime.now().strftime(\"%Y%m%d%H%M%S\")+'.csv')\n",
    "'''\n",
    "\n",
    "j=NordeaJob()\n",
    "jobSet = j.get_jobset(NordeaJob.KEYWORD_LIST, NordeaJob.PAGE_SIZE, SLEEP)\n",
    "j.write_file(jobSet, './data/NordeaJob'+datetime.datetime.now().strftime(\"%Y%m%d%H%M%S\")+'.csv')\n",
    "\n",
    "'''\n",
    "j = StackOverflowJob()\n",
    "jobSet = j.get_jobset(StackOverflowJob.KEYWORD_LIST, PAGE_SIZE, SLEEP)\n",
    "j.write_file(jobSet, './data/jobs_stackoverflow'+datetime.datetime.now().strftime(\"%Y%m%d%H%M%S\")+'.csv')\n",
    "'''"
   ]
  }
 ],
 "metadata": {
  "kernelspec": {
   "display_name": "Python 3",
   "language": "python",
   "name": "python3"
  },
  "language_info": {
   "codemirror_mode": {
    "name": "ipython",
    "version": 3
   },
   "file_extension": ".py",
   "mimetype": "text/x-python",
   "name": "python",
   "nbconvert_exporter": "python",
   "pygments_lexer": "ipython3",
   "version": "3.4.3"
  }
 },
 "nbformat": 4,
 "nbformat_minor": 2
}
